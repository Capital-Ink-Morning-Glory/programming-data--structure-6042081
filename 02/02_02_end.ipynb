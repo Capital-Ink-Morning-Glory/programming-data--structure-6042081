{
 "cells": [
  {
   "cell_type": "code",
   "execution_count": null,
   "metadata": {
    "vscode": {
     "languageId": "plaintext"
    }
   },
   "outputs": [],
   "source": [
    "coffee_sold_list = [45, 52, 38, 60, 47, 55, 49]\n",
    "\n",
    "print(len(coffee_sold_list))"
   ]
  }
 ],
 "metadata": {
  "language_info": {
   "name": "python"
  }
 },
 "nbformat": 4,
 "nbformat_minor": 2
}
