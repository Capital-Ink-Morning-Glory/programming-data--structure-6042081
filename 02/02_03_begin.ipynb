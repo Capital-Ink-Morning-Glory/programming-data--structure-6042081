{
 "cells": [
  {
   "cell_type": "code",
   "execution_count": 1,
   "metadata": {},
   "outputs": [
    {
     "name": "stdout",
     "output_type": "stream",
     "text": [
      "60\n"
     ]
    }
   ],
   "source": [
    "# 每日咖啡销量列表\n",
    "coffee_sold_list = [45, 52, 38, 60, 47, 55, 49]\n",
    "\n",
    "# 获取第4天的销量\n",
    "ITEM_AT_INDEX_THREE = coffee_sold_list[3]\n",
    "print(ITEM_AT_INDEX_THREE)\n"
   ]
  },
  {
   "cell_type": "code",
   "execution_count": 3,
   "metadata": {},
   "outputs": [
    {
     "name": "stdout",
     "output_type": "stream",
     "text": [
      "47\n"
     ]
    }
   ],
   "source": [
    "print(coffee_sold_list[-3]) "
   ]
  },
  {
   "cell_type": "code",
   "execution_count": 4,
   "metadata": {},
   "outputs": [
    {
     "name": "stdout",
     "output_type": "stream",
     "text": [
      "每日平均咖啡销量: 49.42857142857143\n"
     ]
    }
   ],
   "source": [
    "# 计算总销量\n",
    "sales_sum = 0\n",
    "\n",
    "\n",
    "# 计算平均销量\n",
    "average_sales = sum(coffee_sold_list) / len(\n",
    "  coffee_sold_list)\n",
    "print(\"每日平均咖啡销量:\", average_sales)\n"
   ]
  }
 ],
 "metadata": {
  "kernelspec": {
   "display_name": "Python 3",
   "language": "python",
   "name": "python3"
  },
  "language_info": {
   "codemirror_mode": {
    "name": "ipython",
    "version": 3
   },
   "file_extension": ".py",
   "mimetype": "text/x-python",
   "name": "python",
   "nbconvert_exporter": "python",
   "pygments_lexer": "ipython3",
   "version": "3.10.12"
  }
 },
 "nbformat": 4,
 "nbformat_minor": 2
}
