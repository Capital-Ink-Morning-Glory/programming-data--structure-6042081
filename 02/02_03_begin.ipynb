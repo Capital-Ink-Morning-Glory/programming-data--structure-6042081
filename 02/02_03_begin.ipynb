{
 "cells": [
  {
   "cell_type": "code",
   "execution_count": null,
   "metadata": {},
   "outputs": [],
   "source": [
    "# 每日咖啡销量列表\n",
    "coffee_sold_list = [45, 52, 38, 60, 47, 55, 49]\n",
    "\n",
    "# 获取第4天的销量\n",
    "ITEM_AT_INDEX_THREE = \n",
    "print(ITEM_AT_INDEX_THREE)\n"
   ]
  },
  {
   "cell_type": "code",
   "execution_count": null,
   "metadata": {},
   "outputs": [],
   "source": [
    "print(coffee_sold_list) "
   ]
  },
  {
   "cell_type": "code",
   "execution_count": null,
   "metadata": {},
   "outputs": [],
   "source": [
    "# 计算总销量\n",
    "sales_sum = 0\n",
    "\n",
    "\n",
    "# 计算平均销量\n",
    "average_sales = \n",
    "print(\"每日平均咖啡销量:\", average_sales)\n"
   ]
  }
 ],
 "metadata": {
  "language_info": {
   "name": "python"
  }
 },
 "nbformat": 4,
 "nbformat_minor": 2
}
