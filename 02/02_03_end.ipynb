{
 "cells": [
  {
   "cell_type": "code",
   "execution_count": null,
   "metadata": {},
   "outputs": [
    {
     "name": "stdout",
     "output_type": "stream",
     "text": [
      "60\n"
     ]
    }
   ],
   "source": [
    "# 每日咖啡销量列表\n",
    "coffee_sold_list = [45, 52, 38, 60, 47, 55, 49]\n",
    "\n",
    "# 获取第4天的销量\n",
    "ITEM_AT_INDEX_THREE = coffee_sold_list[3]\n",
    "print(ITEM_AT_INDEX_THREE)"
   ]
  },
  {
   "cell_type": "code",
   "execution_count": 1,
   "metadata": {},
   "outputs": [
    {
     "ename": "NameError",
     "evalue": "name 'coffee_sold_list' is not defined",
     "output_type": "error",
     "traceback": [
      "\u001b[0;31m---------------------------------------------------------------------------\u001b[0m",
      "\u001b[0;31mNameError\u001b[0m                                 Traceback (most recent call last)",
      "Cell \u001b[0;32mIn[1], line 1\u001b[0m\n\u001b[0;32m----> 1\u001b[0m \u001b[38;5;28mprint\u001b[39m(\u001b[43mcoffee_sold_list\u001b[49m[\u001b[38;5;241m100\u001b[39m]) \u001b[38;5;66;03m# IndexError: 列表索引超出范围\u001b[39;00m\n",
      "\u001b[0;31mNameError\u001b[0m: name 'coffee_sold_list' is not defined"
     ]
    }
   ],
   "source": [
    "print(coffee_sold_list[100]) # IndexError: 列表索引超出范围"
   ]
  },
  {
   "cell_type": "code",
   "execution_count": null,
   "metadata": {},
   "outputs": [
    {
     "name": "stdout",
     "output_type": "stream",
     "text": [
      "每日平均咖啡销量: 49.42857142857143\n"
     ]
    }
   ],
   "source": [
    "# 计算总销量\n",
    "sales_sum = 0\n",
    "for daily_sales in coffee_sold_list:\n",
    "    sales_sum += daily_sales\n",
    "\n",
    "# 计算平均销量\n",
    "average_sales = sales_sum / len(coffee_sold_list)\n",
    "print(\"每日平均咖啡销量:\", average_sales)"
   ]
  }
 ],
 "metadata": {
  "kernelspec": {
   "display_name": "Python 3",
   "language": "python",
   "name": "python3"
  },
  "language_info": {
   "codemirror_mode": {
    "name": "ipython",
    "version": 3
   },
   "file_extension": ".py",
   "mimetype": "text/x-python",
   "name": "python",
   "nbconvert_exporter": "python",
   "pygments_lexer": "ipython3",
   "version": "3.11.4"
  }
 },
 "nbformat": 4,
 "nbformat_minor": 2
}
