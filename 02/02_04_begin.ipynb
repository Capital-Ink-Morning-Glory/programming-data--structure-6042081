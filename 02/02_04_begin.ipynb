{
 "cells": [
  {
   "cell_type": "code",
   "execution_count": null,
   "metadata": {},
   "outputs": [],
   "source": [
    "coffee_sold_list = [45, 52, 38, 60, 47, 55, 49]\n",
    "\n",
    "# 修改索引为 2 的值（第三天）\n",
    "coffee_sold_list\n",
    "print(coffee_sold_list)"
   ]
  },
  {
   "cell_type": "code",
   "execution_count": null,
   "metadata": {},
   "outputs": [],
   "source": [
    "coffee_sold_list\n",
    "print(coffee_sold_list)"
   ]
  },
  {
   "cell_type": "code",
   "execution_count": null,
   "metadata": {},
   "outputs": [],
   "source": [
    "coffee_sold_list\n",
    "print(coffee_sold_list)"
   ]
  },
  {
   "cell_type": "code",
   "execution_count": null,
   "metadata": {},
   "outputs": [],
   "source": [
    "coffee_sold_list\n",
    "print(coffee_sold_list)"
   ]
  },
  {
   "cell_type": "code",
   "execution_count": null,
   "metadata": {},
   "outputs": [],
   "source": [
    "sales_sum = 0\n",
    "for daily_sales in coffee_sold_list:\n",
    "    sales_sum += daily_sales\n",
    "\n",
    "new_average_sales = sales_sum / len(coffee_sold_list)\n",
    "print(\"更新后的日平均咖啡销量:\", new_average_sales)"
   ]
  }
 ],
 "metadata": {
  "language_info": {
   "name": "python"
  }
 },
 "nbformat": 4,
 "nbformat_minor": 2
}
