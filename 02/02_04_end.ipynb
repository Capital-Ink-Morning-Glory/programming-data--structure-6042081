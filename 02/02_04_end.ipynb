{
 "cells": [
  {
   "cell_type": "code",
   "execution_count": 1,
   "metadata": {},
   "outputs": [
    {
     "name": "stdout",
     "output_type": "stream",
     "text": [
      "[45, 52, 40, 60, 47, 55, 49]\n"
     ]
    }
   ],
   "source": [
    "coffee_sold_list = [45, 52, 38, 60, 47, 55, 49]\n",
    "\n",
    "# 修改索引为 2 的值（第三天）\n",
    "coffee_sold_list[2] = 40\n",
    "print(coffee_sold_list)"
   ]
  },
  {
   "cell_type": "code",
   "execution_count": 2,
   "metadata": {},
   "outputs": [
    {
     "name": "stdout",
     "output_type": "stream",
     "text": [
      "[45, 52, 40, 65, 47, 55, 49]\n"
     ]
    }
   ],
   "source": [
    "coffee_sold_list[3] = coffee_sold_list[3] + 5\n",
    "print(coffee_sold_list)"
   ]
  },
  {
   "cell_type": "code",
   "execution_count": 3,
   "metadata": {},
   "outputs": [
    {
     "name": "stdout",
     "output_type": "stream",
     "text": [
      "[45, 52, 40, 65, 47, 55, 3]\n"
     ]
    }
   ],
   "source": [
    "coffee_sold_list[-1] = 3\n",
    "print(coffee_sold_list)"
   ]
  },
  {
   "cell_type": "code",
   "execution_count": 4,
   "metadata": {},
   "outputs": [
    {
     "name": "stdout",
     "output_type": "stream",
     "text": [
      "[45, 52, 40, 65, 47, 55, 3, 50]\n"
     ]
    }
   ],
   "source": [
    "coffee_sold_list.append(50)\n",
    "print(coffee_sold_list)"
   ]
  },
  {
   "cell_type": "code",
   "execution_count": 5,
   "metadata": {},
   "outputs": [
    {
     "name": "stdout",
     "output_type": "stream",
     "text": [
      "更新后的日平均咖啡销量: 44.625\n"
     ]
    }
   ],
   "source": [
    "sales_sum = 0\n",
    "for daily_sales in coffee_sold_list:\n",
    "    sales_sum += daily_sales\n",
    "\n",
    "new_average_sales = sales_sum / len(coffee_sold_list)\n",
    "print(\"更新后的日平均咖啡销量:\", new_average_sales)"
   ]
  }
 ],
 "metadata": {
  "kernelspec": {
   "display_name": "Python 3",
   "language": "python",
   "name": "python3"
  },
  "language_info": {
   "codemirror_mode": {
    "name": "ipython",
    "version": 3
   },
   "file_extension": ".py",
   "mimetype": "text/x-python",
   "name": "python",
   "nbconvert_exporter": "python",
   "pygments_lexer": "ipython3",
   "version": "3.11.4"
  }
 },
 "nbformat": 4,
 "nbformat_minor": 2
}
