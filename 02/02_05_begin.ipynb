{
 "cells": [
  {
   "cell_type": "code",
   "execution_count": null,
   "metadata": {},
   "outputs": [],
   "source": [
    "coffee_sold_multi = [\n",
    "    [45, 52, 38, 60, 47, 55, 49],  # 分店 1\n",
    "    [34, 40, 51, 45, 50, 70, 60],  # 分店 2\n",
    "    [29, 31, 35, 40, 42, 38, 52]   # 分店 3\n",
    "]"
   ]
  },
  {
   "cell_type": "code",
   "execution_count": null,
   "metadata": {},
   "outputs": [],
   "source": [
    "sales_of_branch_3_day_2 = coffee_sold_multi\n",
    "print(sales_of_branch_3_day_2)  # 输出 31"
   ]
  },
  {
   "cell_type": "code",
   "execution_count": null,
   "metadata": {},
   "outputs": [],
   "source": [
    "for i, branch_sales:\n",
    "    # 这里的 i 表示分店的索引，branch_sales 表示该分店的日销量列表\n",
    "    print(f\"分店 {i} 的每日咖啡销量：{branch_sales}\")"
   ]
  },
  {
   "cell_type": "code",
   "execution_count": null,
   "metadata": {},
   "outputs": [],
   "source": [
    "for i, branch_sales:\n",
    "    # i 是分店的索引\n",
    "    for j, daily_sales:\n",
    "        # j 是天数的索引\n",
    "        print(f\"分店 {i+1}, 第 {j+1} 天, 销量: {daily_sales}\")"
   ]
  }
 ],
 "metadata": {
  "kernelspec": {
   "display_name": "Python 3",
   "language": "python",
   "name": "python3"
  },
  "language_info": {
   "name": "python",
   "version": "3.11.4"
  }
 },
 "nbformat": 4,
 "nbformat_minor": 2
}
