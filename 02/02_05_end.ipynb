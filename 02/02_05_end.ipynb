{
 "cells": [
  {
   "cell_type": "code",
   "execution_count": 6,
   "metadata": {},
   "outputs": [],
   "source": [
    "coffee_sold_multi = [\n",
    "    [45, 52, 38, 60, 47, 55, 49],  # 分店 1\n",
    "    [34, 40, 51, 45, 50, 70, 60],  # 分店 2\n",
    "    [29, 31, 35, 40, 42, 38, 52]   # 分店 3\n",
    "]"
   ]
  },
  {
   "cell_type": "code",
   "execution_count": 7,
   "metadata": {},
   "outputs": [
    {
     "name": "stdout",
     "output_type": "stream",
     "text": [
      "31\n"
     ]
    }
   ],
   "source": [
    "sales_of_branch_3_day_2 = coffee_sold_multi[2][1]\n",
    "print(sales_of_branch_3_day_2)  # 输出 31"
   ]
  },
  {
   "cell_type": "code",
   "execution_count": 8,
   "metadata": {},
   "outputs": [
    {
     "name": "stdout",
     "output_type": "stream",
     "text": [
      "分店 1 的每日咖啡销量：[45, 52, 38, 60, 47, 55, 49]\n",
      "分店 2 的每日咖啡销量：[34, 40, 51, 45, 50, 70, 60]\n",
      "分店 3 的每日咖啡销量：[29, 31, 35, 40, 42, 38, 52]\n"
     ]
    }
   ],
   "source": [
    "for i, branch_sales in enumerate(coffee_sold_multi):\n",
    "    # 这里的 i 表示分店的索引，branch_sales 表示该分店的日销量列表\n",
    "    print(f\"分店 {i+1} 的每日咖啡销量：{branch_sales}\")"
   ]
  },
  {
   "cell_type": "code",
   "execution_count": 9,
   "metadata": {},
   "outputs": [
    {
     "name": "stdout",
     "output_type": "stream",
     "text": [
      "分店 1, 第 1 天, 销量: 45\n",
      "分店 1, 第 2 天, 销量: 52\n",
      "分店 1, 第 3 天, 销量: 38\n",
      "分店 1, 第 4 天, 销量: 60\n",
      "分店 1, 第 5 天, 销量: 47\n",
      "分店 1, 第 6 天, 销量: 55\n",
      "分店 1, 第 7 天, 销量: 49\n",
      "\n",
      "分店 2, 第 1 天, 销量: 34\n",
      "分店 2, 第 2 天, 销量: 40\n",
      "分店 2, 第 3 天, 销量: 51\n",
      "分店 2, 第 4 天, 销量: 45\n",
      "分店 2, 第 5 天, 销量: 50\n",
      "分店 2, 第 6 天, 销量: 70\n",
      "分店 2, 第 7 天, 销量: 60\n",
      "\n",
      "分店 3, 第 1 天, 销量: 29\n",
      "分店 3, 第 2 天, 销量: 31\n",
      "分店 3, 第 3 天, 销量: 35\n",
      "分店 3, 第 4 天, 销量: 40\n",
      "分店 3, 第 5 天, 销量: 42\n",
      "分店 3, 第 6 天, 销量: 38\n",
      "分店 3, 第 7 天, 销量: 52\n",
      "\n"
     ]
    }
   ],
   "source": [
    "for i, branch_sales in enumerate(coffee_sold_multi):\n",
    "    # i 是分店的索引\n",
    "    for j, daily_sales in enumerate(branch_sales):\n",
    "        # j 是天数的索引\n",
    "        print(f\"分店 {i+1}, 第 {j+1} 天, 销量: {daily_sales}\")\n",
    "    print()  # 每个分店输出完之后加一个空行，方便阅读"
   ]
  }
 ],
 "metadata": {
  "kernelspec": {
   "display_name": "Python 3",
   "language": "python",
   "name": "python3"
  },
  "language_info": {
   "codemirror_mode": {
    "name": "ipython",
    "version": 3
   },
   "file_extension": ".py",
   "mimetype": "text/x-python",
   "name": "python",
   "nbconvert_exporter": "python",
   "pygments_lexer": "ipython3",
   "version": "3.11.4"
  }
 },
 "nbformat": 4,
 "nbformat_minor": 2
}
