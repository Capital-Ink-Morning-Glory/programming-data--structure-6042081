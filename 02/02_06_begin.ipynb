{
 "cells": [
  {
   "cell_type": "code",
   "execution_count": 1,
   "metadata": {},
   "outputs": [
    {
     "name": "stdout",
     "output_type": "stream",
     "text": [
      "('08:00', '22:00')\n",
      "开门时间: 08:00\n",
      "闭店时间: 22:00\n"
     ]
    }
   ],
   "source": [
    "# 创建一个元组表示咖啡店的营业时间\n",
    "branch_hours = (\"08:00\", \"22:00\")\n",
    "\n",
    "# 打印元组\n",
    "print(branch_hours)\n",
    "\n",
    "# 访问元组中的内容\n",
    "open_time = branch_hours[0]\n",
    "close_time = branch_hours[1]\n",
    "print(\"开门时间:\", open_time)\n",
    "print(\"闭店时间:\", close_time)"
   ]
  },
  {
   "cell_type": "code",
   "execution_count": 2,
   "metadata": {},
   "outputs": [
    {
     "ename": "TypeError",
     "evalue": "'tuple' object does not support item assignment",
     "output_type": "error",
     "traceback": [
      "\u001b[0;31m---------------------------------------------------------------------------\u001b[0m",
      "\u001b[0;31mTypeError\u001b[0m                                 Traceback (most recent call last)",
      "Cell \u001b[0;32mIn[2], line 1\u001b[0m\n\u001b[0;32m----> 1\u001b[0m \u001b[43mbranch_hours\u001b[49m\u001b[43m[\u001b[49m\u001b[38;5;241;43m0\u001b[39;49m\u001b[43m]\u001b[49m \u001b[38;5;241m=\u001b[39m \u001b[38;5;124m\"\u001b[39m\u001b[38;5;124m09:00\u001b[39m\u001b[38;5;124m\"\u001b[39m\n",
      "\u001b[0;31mTypeError\u001b[0m: 'tuple' object does not support item assignment"
     ]
    }
   ],
   "source": [
    "branch_hours[0] = \"09:00\""
   ]
  },
  {
   "cell_type": "code",
   "execution_count": 3,
   "metadata": {},
   "outputs": [
    {
     "name": "stdout",
     "output_type": "stream",
     "text": [
      "最高销量: 95\n",
      "最低销量: 30\n"
     ]
    }
   ],
   "source": [
    "coffee_sold_list = [60, 40, 85, 30, 95, 70, 55]  # 咖啡店一周每日销量\n",
    "\n",
    "def calculate_sales_stats(sales_list):\n",
    "    \"\"\"返回一个元组，依次包含最高销量和最低销量\"\"\"\n",
    "    highest_sales = max(sales_list)\n",
    "    lowest_sales = min(sales_list)\n",
    "    return (highest_sales, lowest_sales)\n",
    "\n",
    "# 调用函数并接收返回的元组\n",
    "result = calculate_sales_stats(coffee_sold_list)\n",
    "\n",
    "# 访问元组中的值\n",
    "print(\"最高销量:\", result[0])\n",
    "print(\"最低销量:\", result[1])"
   ]
  }
 ],
 "metadata": {
  "kernelspec": {
   "display_name": "Python 3",
   "language": "python",
   "name": "python3"
  },
  "language_info": {
   "codemirror_mode": {
    "name": "ipython",
    "version": 3
   },
   "file_extension": ".py",
   "mimetype": "text/x-python",
   "name": "python",
   "nbconvert_exporter": "python",
   "pygments_lexer": "ipython3",
   "version": "3.10.12"
  }
 },
 "nbformat": 4,
 "nbformat_minor": 2
}
