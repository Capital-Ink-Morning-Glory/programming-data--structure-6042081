{
 "cells": [
  {
   "cell_type": "code",
   "execution_count": null,
   "metadata": {},
   "outputs": [],
   "source": [
    "# 创建一个元组表示咖啡店的营业时间\n",
    "branch_hours = (\"08:00\", \"22:00\")\n",
    "\n",
    "# 打印元组\n",
    "print(branch_hours)\n",
    "\n",
    "# 访问元组中的内容\n",
    "open_time = branch_hours[0]\n",
    "close_time = branch_hours[1]\n",
    "print(\"开门时间:\", open_time)\n",
    "print(\"闭店时间:\", close_time)"
   ]
  },
  {
   "cell_type": "code",
   "execution_count": null,
   "metadata": {},
   "outputs": [],
   "source": [
    "coffee_sold_list = [60, 40, 85, 30, 95, 70, 55]  # 咖啡店一周每日销量\n",
    "\n",
    "def calculate_sales_stats(sales_list):\n",
    "    \"\"\"返回一个元组，依次包含最高销量和最低销量\"\"\"\n",
    "    highest_sales = max(sales_list)\n",
    "    lowest_sales = min(sales_list)\n",
    "    return (highest_sales, lowest_sales)  # 用元组打包返回\n",
    "\n",
    "# 调用函数并接收返回的元组\n",
    "result = calculate_sales_stats(coffee_sold_list)\n",
    "\n",
    "# 访问元组中的值\n",
    "print(\"最高销量:\", result[0])\n",
    "print(\"最低销量:\", result[1])"
   ]
  }
 ],
 "metadata": {
  "language_info": {
   "name": "python"
  }
 },
 "nbformat": 4,
 "nbformat_minor": 2
}
