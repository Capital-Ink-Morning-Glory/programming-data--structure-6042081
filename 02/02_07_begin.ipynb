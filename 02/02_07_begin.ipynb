{
 "cells": [
  {
   "cell_type": "code",
   "execution_count": 1,
   "metadata": {},
   "outputs": [
    {
     "name": "stdout",
     "output_type": "stream",
     "text": [
      "['美式咖啡', '拿铁', '卡布奇诺', '焦糖玛奇朵', '摩卡', '冰美式', '手冲咖啡']\n"
     ]
    }
   ],
   "source": [
    "coffee_menu = [\n",
    "    \"美式咖啡\", \n",
    "    \"拿铁\", \n",
    "    \"卡布奇诺\", \n",
    "    \"焦糖玛奇朵\", \n",
    "    \"摩卡\", \n",
    "    \"冰美式\", \n",
    "    \"手冲咖啡\"\n",
    "]\n",
    "\n",
    "print(coffee_menu)"
   ]
  },
  {
   "cell_type": "code",
   "execution_count": 2,
   "metadata": {},
   "outputs": [
    {
     "name": "stdout",
     "output_type": "stream",
     "text": [
      "菜单中是否存在目标咖啡 '脏脏咖啡'？ False\n"
     ]
    }
   ],
   "source": [
    "def linear_search(menu_list, target):\n",
    "    for coffee in menu_list:\n",
    "        if coffee == target:\n",
    "            return True\n",
    "    return False\n",
    "\n",
    "# 测试一下：查找是否有“脏脏咖啡”\n",
    "target_drink = \"脏脏咖啡\"\n",
    "found = linear_search(coffee_menu, target_drink)\n",
    "print(f\"菜单中是否存在目标咖啡 '{target_drink}'？\", found)"
   ]
  },
  {
   "cell_type": "code",
   "execution_count": 3,
   "metadata": {},
   "outputs": [
    {
     "name": "stdout",
     "output_type": "stream",
     "text": [
      "菜单中没有目标咖啡 '脏脏咖啡'\n"
     ]
    }
   ],
   "source": [
    "try:\n",
    "    idx = coffee_menu.index(target_drink)\n",
    "    print(f\"找到了目标咖啡 '{target_drink}'，它在列表的索引位置为：{idx}\")\n",
    "except :\n",
    "    print(f\"菜单中没有目标咖啡 '{target_drink}'\")"
   ]
  }
 ],
 "metadata": {
  "kernelspec": {
   "display_name": "Python 3",
   "language": "python",
   "name": "python3"
  },
  "language_info": {
   "codemirror_mode": {
    "name": "ipython",
    "version": 3
   },
   "file_extension": ".py",
   "mimetype": "text/x-python",
   "name": "python",
   "nbconvert_exporter": "python",
   "pygments_lexer": "ipython3",
   "version": "3.10.12"
  }
 },
 "nbformat": 4,
 "nbformat_minor": 2
}
