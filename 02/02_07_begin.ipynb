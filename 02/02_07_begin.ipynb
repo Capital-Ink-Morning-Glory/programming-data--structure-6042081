{
 "cells": [
  {
   "cell_type": "code",
   "execution_count": null,
   "metadata": {},
   "outputs": [],
   "source": [
    "coffee_menu = [\n",
    "    \"美式咖啡\", \n",
    "    \"拿铁\", \n",
    "    \"卡布奇诺\", \n",
    "    \"焦糖玛奇朵\", \n",
    "    \"摩卡\", \n",
    "    \"冰美式\", \n",
    "    \"手冲咖啡\"\n",
    "]"
   ]
  },
  {
   "cell_type": "code",
   "execution_count": null,
   "metadata": {},
   "outputs": [],
   "source": [
    "def linear_search(menu_list, target):\n",
    "    for coffee in menu_list:\n",
    "        if coffee == target:\n",
    "            return True\n",
    "    return False\n",
    "\n",
    "# 测试一下：查找是否有“脏脏咖啡”\n",
    "target_drink = \"\"\n",
    "found = linear_search()\n",
    "print(f\"菜单中是否存在目标咖啡 '{target_drink}'？\", found)"
   ]
  },
  {
   "cell_type": "code",
   "execution_count": null,
   "metadata": {},
   "outputs": [],
   "source": [
    "try:\n",
    "    idx = coffee_menu.\n",
    "    print(f\"找到了目标咖啡 '{target_drink}'，它在列表的索引位置为：{idx}\")\n",
    "except :\n",
    "    print(f\"菜单中没有目标咖啡 '{target_drink}'\")"
   ]
  }
 ],
 "metadata": {
  "language_info": {
   "name": "python"
  }
 },
 "nbformat": 4,
 "nbformat_minor": 2
}
