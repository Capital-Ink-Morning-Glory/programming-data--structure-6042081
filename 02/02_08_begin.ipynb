{
 "cells": [
  {
   "cell_type": "code",
   "execution_count": null,
   "metadata": {},
   "outputs": [],
   "source": [
    "coffee_sold_list = [75, 40, 85, 30, 95, 70, 55]"
   ]
  },
  {
   "cell_type": "code",
   "execution_count": null,
   "metadata": {},
   "outputs": [],
   "source": [
    "sorted_list_asc = \n",
    "print(\"升序排序结果:\", sorted_list_asc)"
   ]
  },
  {
   "cell_type": "code",
   "execution_count": null,
   "metadata": {},
   "outputs": [],
   "source": [
    "sorted_list_desc = \n",
    "print(\"降序排序结果:\", sorted_list_desc)"
   ]
  },
  {
   "cell_type": "code",
   "execution_count": null,
   "metadata": {},
   "outputs": [],
   "source": [
    "coffee_making_stats = [\n",
    "    (\"David\", 160),\n",
    "    (\"Alice\", 150),\n",
    "    (\"Cindy\", 180),\n",
    "    (\"Bob\", 120)\n",
    "    ]"
   ]
  },
  {
   "cell_type": "code",
   "execution_count": null,
   "metadata": {},
   "outputs": [],
   "source": [
    "sorted_by_name = \n",
    "print(\"按姓名排序:\", sorted_by_name)"
   ]
  },
  {
   "cell_type": "code",
   "execution_count": null,
   "metadata": {},
   "outputs": [],
   "source": [
    "sorted_by_quantity_desc = sorted()\n",
    "print(\"按制作量降序排序:\", sorted_by_quantity_desc)"
   ]
  }
 ],
 "metadata": {
  "language_info": {
   "name": "python"
  }
 },
 "nbformat": 4,
 "nbformat_minor": 2
}
