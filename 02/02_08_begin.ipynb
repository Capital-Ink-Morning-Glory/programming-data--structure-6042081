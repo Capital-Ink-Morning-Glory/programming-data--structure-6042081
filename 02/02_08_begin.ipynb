{
 "cells": [
  {
   "cell_type": "code",
   "execution_count": 1,
   "metadata": {},
   "outputs": [
    {
     "name": "stdout",
     "output_type": "stream",
     "text": [
      "[75, 40, 85, 30, 95, 70, 55]\n"
     ]
    }
   ],
   "source": [
    "coffee_sold_list = [75, 40, 85, 30, 95, 70, 55]\n",
    "print(coffee_sold_list)"
   ]
  },
  {
   "cell_type": "code",
   "execution_count": 2,
   "metadata": {},
   "outputs": [
    {
     "name": "stdout",
     "output_type": "stream",
     "text": [
      "升序排序结果: [30, 40, 55, 70, 75, 85, 95]\n"
     ]
    }
   ],
   "source": [
    "sorted_list_asc = sorted(coffee_sold_list)\n",
    "print(\"升序排序结果:\", sorted_list_asc)"
   ]
  },
  {
   "cell_type": "code",
   "execution_count": 3,
   "metadata": {},
   "outputs": [
    {
     "name": "stdout",
     "output_type": "stream",
     "text": [
      "降序排序结果: [95, 85, 75, 70, 55, 40, 30]\n"
     ]
    }
   ],
   "source": [
    "sorted_list_desc = sorted(coffee_sold_list, reverse=True)\n",
    "print(\"降序排序结果:\", sorted_list_desc)"
   ]
  },
  {
   "cell_type": "code",
   "execution_count": 4,
   "metadata": {},
   "outputs": [],
   "source": [
    "coffee_making_stats = [\n",
    "    (\"David\", 160),\n",
    "    (\"Alice\", 150),\n",
    "    (\"Cindy\", 180),\n",
    "    (\"Bob\", 120)\n",
    "    ]"
   ]
  },
  {
   "cell_type": "code",
   "execution_count": 5,
   "metadata": {},
   "outputs": [
    {
     "name": "stdout",
     "output_type": "stream",
     "text": [
      "按姓名排序: [('Alice', 150), ('Bob', 120), ('Cindy', 180), ('David', 160)]\n"
     ]
    }
   ],
   "source": [
    "sorted_by_name = sorted(coffee_making_stats)\n",
    "print(\"按姓名排序:\", sorted_by_name)"
   ]
  },
  {
   "cell_type": "code",
   "execution_count": 6,
   "metadata": {},
   "outputs": [
    {
     "name": "stdout",
     "output_type": "stream",
     "text": [
      "按制作量降序排序: [('Cindy', 180), ('David', 160), ('Alice', 150), ('Bob', 120)]\n"
     ]
    }
   ],
   "source": [
    "sorted_by_quantity_desc = sorted(coffee_making_stats, \n",
    "                                 key=lambda item: item[1],\n",
    "                                 reverse=True)\n",
    "print(\"按制作量降序排序:\", sorted_by_quantity_desc)"
   ]
  }
 ],
 "metadata": {
  "kernelspec": {
   "display_name": "Python 3",
   "language": "python",
   "name": "python3"
  },
  "language_info": {
   "codemirror_mode": {
    "name": "ipython",
    "version": 3
   },
   "file_extension": ".py",
   "mimetype": "text/x-python",
   "name": "python",
   "nbconvert_exporter": "python",
   "pygments_lexer": "ipython3",
   "version": "3.10.12"
  }
 },
 "nbformat": 4,
 "nbformat_minor": 2
}
