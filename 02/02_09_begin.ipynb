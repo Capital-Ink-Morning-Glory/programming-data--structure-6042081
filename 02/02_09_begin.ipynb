{
 "cells": [
  {
   "cell_type": "code",
   "execution_count": null,
   "metadata": {},
   "outputs": [],
   "source": [
    "def find_second_cheapest(prices):\n",
    "    return 0\n",
    "\n",
    "# 测试\n",
    "print(find_second_cheapest([24, 12, 30, 6, 18]))  # 12\n",
    "print(find_second_cheapest([12]))  # None"
   ]
  }
 ],
 "metadata": {
  "language_info": {
   "name": "python"
  }
 },
 "nbformat": 4,
 "nbformat_minor": 2
}
