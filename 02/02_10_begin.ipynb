{
 "cells": [
  {
   "cell_type": "code",
   "execution_count": null,
   "metadata": {},
   "outputs": [],
   "source": [
    "def find_second_cheapest(prices):\n",
    "    return 0\n",
    "\n",
    "print(find_second_cheapest([24, 12, 30, 6, 18]))  # 12\n",
    "print(find_second_cheapest([12]))  # None"
   ]
  },
  {
   "cell_type": "code",
   "execution_count": null,
   "metadata": {},
   "outputs": [],
   "source": [
    "def find_second_cheapest(prices):\n",
    "    return 0\n",
    "\n",
    "\n",
    "# 测试\n",
    "print(find_second_cheapest([24, 12, 30, 6, 18]))  # 12\n",
    "print(find_second_cheapest([12]))  # None"
   ]
  }
 ],
 "metadata": {
  "kernelspec": {
   "display_name": "Python 3",
   "language": "python",
   "name": "python3"
  },
  "language_info": {
   "codemirror_mode": {
    "name": "ipython",
    "version": 3
   },
   "file_extension": ".py",
   "mimetype": "text/x-python",
   "name": "python",
   "nbconvert_exporter": "python",
   "pygments_lexer": "ipython3",
   "version": "3.11.4"
  }
 },
 "nbformat": 4,
 "nbformat_minor": 2
}
