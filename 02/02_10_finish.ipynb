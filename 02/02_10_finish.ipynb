{
 "cells": [
  {
   "cell_type": "code",
   "execution_count": 1,
   "metadata": {},
   "outputs": [
    {
     "name": "stdout",
     "output_type": "stream",
     "text": [
      "12\n",
      "None\n"
     ]
    }
   ],
   "source": [
    "def find_second_cheapest(prices):\n",
    "    if len(prices) < 2:\n",
    "        return None\n",
    "    return sorted(prices)[1]\n",
    "\n",
    "print(find_second_cheapest([24, 12, 30, 6, 18]))  # 12\n",
    "print(find_second_cheapest([12]))  # None"
   ]
  },
  {
   "cell_type": "code",
   "execution_count": 2,
   "metadata": {},
   "outputs": [
    {
     "name": "stdout",
     "output_type": "stream",
     "text": [
      "12\n",
      "None\n"
     ]
    }
   ],
   "source": [
    "def find_second_cheapest(prices):\n",
    "    if len(prices) < 2:\n",
    "        return None\n",
    "\n",
    "    smallest = second_smallest = float('inf')\n",
    "    for price in prices:\n",
    "        if price < smallest:\n",
    "            second_smallest = smallest\n",
    "            smallest = price\n",
    "        elif price < second_smallest:\n",
    "            second_smallest = price\n",
    "\n",
    "    return second_smallest\n",
    "\n",
    "\n",
    "# 测试\n",
    "print(find_second_cheapest([24, 12, 30, 6, 18]))  # 12\n",
    "print(find_second_cheapest([12]))  # None"
   ]
  }
 ],
 "metadata": {
  "kernelspec": {
   "display_name": "Python 3",
   "language": "python",
   "name": "python3"
  },
  "language_info": {
   "codemirror_mode": {
    "name": "ipython",
    "version": 3
   },
   "file_extension": ".py",
   "mimetype": "text/x-python",
   "name": "python",
   "nbconvert_exporter": "python",
   "pygments_lexer": "ipython3",
   "version": "3.11.4"
  }
 },
 "nbformat": 4,
 "nbformat_minor": 2
}
