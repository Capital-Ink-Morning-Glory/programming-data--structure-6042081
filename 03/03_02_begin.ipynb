{
 "cells": [
  {
   "cell_type": "code",
   "execution_count": 1,
   "metadata": {},
   "outputs": [
    {
     "name": "stdout",
     "output_type": "stream",
     "text": [
      "河南的省会是： 郑州\n"
     ]
    }
   ],
   "source": [
    "# 创建字典时直接初始化\n",
    "provinces_and_capitals = {\n",
    "  \"河南\": \"郑州\",\n",
    "  \"江苏\": \"南京\"\n",
    "}\n",
    "\n",
    "# 访问字典中的值\n",
    "print(\"河南的省会是：\", provinces_and_capitals[\"河南\"])"
   ]
  },
  {
   "cell_type": "code",
   "execution_count": 2,
   "metadata": {},
   "outputs": [
    {
     "name": "stdout",
     "output_type": "stream",
     "text": [
      "字典中的所有省份：\n",
      "河南\n",
      "江苏\n"
     ]
    }
   ],
   "source": [
    "# 使用 for-loop 打印所有键\n",
    "print(\"字典中的所有省份：\")\n",
    "for province in provinces_and_capitals.keys():\n",
    "  print(province)"
   ]
  },
  {
   "cell_type": "code",
   "execution_count": 3,
   "metadata": {},
   "outputs": [
    {
     "name": "stdout",
     "output_type": "stream",
     "text": [
      "省份及其对应的省会：\n",
      "河南 的省会是: 郑州\n",
      "江苏 的省会是: 南京\n"
     ]
    }
   ],
   "source": [
    "# 同时遍历键和值\n",
    "print(\"省份及其对应的省会：\")\n",
    "for province, capital in provinces_and_capitals.items():\n",
    "    print(province, \"的省会是:\", capital)"
   ]
  },
  {
   "cell_type": "code",
   "execution_count": null,
   "metadata": {},
   "outputs": [],
   "source": []
  }
 ],
 "metadata": {
  "kernelspec": {
   "display_name": "Python 3",
   "language": "python",
   "name": "python3"
  },
  "language_info": {
   "codemirror_mode": {
    "name": "ipython",
    "version": 3
   },
   "file_extension": ".py",
   "mimetype": "text/x-python",
   "name": "python",
   "nbconvert_exporter": "python",
   "pygments_lexer": "ipython3",
   "version": "3.10.12"
  }
 },
 "nbformat": 4,
 "nbformat_minor": 2
}
