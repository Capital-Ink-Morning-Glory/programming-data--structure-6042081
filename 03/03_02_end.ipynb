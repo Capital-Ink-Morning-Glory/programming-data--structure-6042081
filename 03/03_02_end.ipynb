{
 "cells": [
  {
   "cell_type": "code",
   "execution_count": null,
   "metadata": {},
   "outputs": [],
   "source": [
    "# 创建字典时直接初始化\n",
    "provinces_and_capitals = {}\n",
    "# 访问字典中的值\n",
    "print(\"河南的省会是：\")"
   ]
  },
  {
   "cell_type": "code",
   "execution_count": null,
   "metadata": {},
   "outputs": [],
   "source": [
    "# 使用 for-loop 打印所有键\n",
    "print(\"字典中的所有省份：\")\n"
   ]
  },
  {
   "cell_type": "code",
   "execution_count": null,
   "metadata": {},
   "outputs": [],
   "source": [
    "# 同时遍历键和值\n",
    "print(\"省份及其对应的省会：\")\n"
   ]
  }
 ],
 "metadata": {
  "language_info": {
   "name": "python"
  }
 },
 "nbformat": 4,
 "nbformat_minor": 2
}
