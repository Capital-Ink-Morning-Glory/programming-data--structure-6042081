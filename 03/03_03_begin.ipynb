{
 "cells": [
  {
   "cell_type": "code",
   "execution_count": null,
   "metadata": {},
   "outputs": [],
   "source": [
    "# 定义一个包含多种属性类型的字典\n",
    "inventory_item = {\n",
    "    \"productName\": \"运动鞋\",      # 字符串\n",
    "    \"quantity\": 50,             # 整数\n",
    "    \"inStock\": True,            # 布尔类型\n",
    "    \"supplier\": \"睿智体育供应商\",  # 字符串\n",
    "    \"price\": 269.99             # 浮点数\n",
    "}"
   ]
  },
  {
   "cell_type": "code",
   "execution_count": null,
   "metadata": {},
   "outputs": [],
   "source": [
    "# 1. 修改字典中已存在的值\n",
    "# 假设我们要把价格调低到 259.99\n",
    "\n",
    "\n",
    "# 2. 更改 inStock 的布尔值，假设商品暂时断货\n",
    "\n",
    "\n",
    "# 3. 向字典添加新的键-值对\n",
    "# 假设我们想加一个颜色属性 (color)\n",
    "\n",
    "\n",
    "# 4. 删除字典中已存在的键-值对\n",
    "# 如果不需要返回被删除的值，可以直接使用 del\n",
    "\n",
    "\n",
    "# 如果我们想在删除时同时获取被删除的值，可以使用 pop 方法\n",
    "# 如果 \"quantity\" 这个键不存在，就返回 \"不存在\"\n",
    "\n",
    "\n",
    "# 5. 打印结果，查看修改后的字典\n",
    "print(\"更新后的库存信息：\", inventory_item)\n",
    "# print(\"删除的 quantity 的值：\", removed_quantity)"
   ]
  }
 ],
 "metadata": {
  "language_info": {
   "name": "python"
  }
 },
 "nbformat": 4,
 "nbformat_minor": 2
}
