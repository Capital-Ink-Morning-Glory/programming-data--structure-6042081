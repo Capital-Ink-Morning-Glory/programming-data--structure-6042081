{
 "cells": [
  {
   "cell_type": "code",
   "execution_count": null,
   "metadata": {},
   "outputs": [],
   "source": [
    "# 定义一个包含多种属性类型的字典\n",
    "inventory_item = {\n",
    "    \"productName\": \"运动鞋\",      # 字符串\n",
    "    \"quantity\": 50,             # 整数\n",
    "    \"inStock\": True,            # 布尔类型\n",
    "    \"supplier\": \"睿智体育供应商\",  # 字符串\n",
    "    \"price\": 269.99             # 浮点数\n",
    "}"
   ]
  },
  {
   "cell_type": "code",
   "execution_count": null,
   "metadata": {},
   "outputs": [
    {
     "name": "stdout",
     "output_type": "stream",
     "text": [
      "更新后的库存信息： {'productName': '运动鞋', 'inStock': False, 'price': 259.99, 'color': '黑色'}\n",
      "删除的 quantity 的值： 50\n"
     ]
    }
   ],
   "source": [
    "# 1. 修改字典中已存在的值\n",
    "# 假设我们要把价格调低到 259.99\n",
    "inventory_item[\"price\"] = 259.99\n",
    "\n",
    "# 2. 更改 inStock 的布尔值，假设商品暂时断货\n",
    "inventory_item[\"inStock\"] = False\n",
    "\n",
    "# 3. 向字典添加新的键-值对\n",
    "# 假设我们想加一个颜色属性 (color)\n",
    "inventory_item[\"color\"] = \"黑色\"\n",
    "\n",
    "# 4. 删除字典中已存在的键-值对\n",
    "# 如果不需要返回被删除的值，可以直接使用 del\n",
    "del inventory_item[\"supplier\"]  # 删除 \"supplier\"\n",
    "\n",
    "# 如果我们想在删除时同时获取被删除的值，可以使用 pop 方法\n",
    "removed_quantity = inventory_item.pop(\"quantity\", \"不存在\")  \n",
    "# 如果 \"quantity\" 这个键不存在，就返回 \"不存在\"\n",
    "\n",
    "# 5. 打印结果，查看修改后的字典\n",
    "print(\"更新后的库存信息：\", inventory_item)\n",
    "print(\"删除的 quantity 的值：\", removed_quantity)"
   ]
  }
 ],
 "metadata": {
  "kernelspec": {
   "display_name": "Python 3",
   "language": "python",
   "name": "python3"
  },
  "language_info": {
   "codemirror_mode": {
    "name": "ipython",
    "version": 3
   },
   "file_extension": ".py",
   "mimetype": "text/x-python",
   "name": "python",
   "nbconvert_exporter": "python",
   "pygments_lexer": "ipython3",
   "version": "3.11.4"
  }
 },
 "nbformat": 4,
 "nbformat_minor": 2
}
