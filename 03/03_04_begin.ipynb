{
 "cells": [
  {
   "cell_type": "code",
   "execution_count": 4,
   "metadata": {},
   "outputs": [
    {
     "name": "stdout",
     "output_type": "stream",
     "text": [
      "{'productName': '运动鞋', 'quantity': None, 'inStock': True, 'supplier': None, 'price': 269.99}\n"
     ]
    }
   ],
   "source": [
    "inventory_item = {\n",
    "    \"productName\": \"运动鞋\",\n",
    "    \"quantity\": None,\n",
    "    \"inStock\": True,\n",
    "    \"supplier\": None,\n",
    "    \"price\": 269.99\n",
    "}\n",
    "\n",
    "print(inventory_item)"
   ]
  },
  {
   "cell_type": "code",
   "execution_count": 5,
   "metadata": {},
   "outputs": [
    {
     "name": "stdout",
     "output_type": "stream",
     "text": [
      "原始字典： {'productName': '运动鞋', 'quantity': None, 'inStock': True, 'supplier': None, 'price': 269.99}\n",
      "清理后的字典： {'productName': '运动鞋', 'inStock': True, 'price': 269.99}\n"
     ]
    }
   ],
   "source": [
    "def drop_empty_fields(item_dict):\n",
    "    cleaned_item = {}\n",
    "    for k, v in item_dict.items():\n",
    "        if v != None:\n",
    "            cleaned_item[k] = v\n",
    "    return cleaned_item\n",
    "\n",
    "\n",
    "cleaned_item = drop_empty_fields(inventory_item)\n",
    "print(\"原始字典：\", inventory_item)\n",
    "print(\"清理后的字典：\", cleaned_item)"
   ]
  },
  {
   "cell_type": "code",
   "execution_count": 6,
   "metadata": {},
   "outputs": [
    {
     "name": "stdout",
     "output_type": "stream",
     "text": [
      "原始字典： {'productName': '运动鞋', 'quantity': None, 'inStock': True, 'supplier': None, 'price': 269.99}\n",
      "清理后的字典： {'productName': '运动鞋', 'inStock': True, 'price': 269.99}\n"
     ]
    }
   ],
   "source": [
    "def drop_empty_fields(item_dict):\n",
    "    return {k:v for k, v in item_dict.items() if v != None}\n",
    "\n",
    "\n",
    "cleaned_item = drop_empty_fields(inventory_item)\n",
    "print(\"原始字典：\", inventory_item)\n",
    "print(\"清理后的字典：\", cleaned_item)"
   ]
  }
 ],
 "metadata": {
  "kernelspec": {
   "display_name": "Python 3",
   "language": "python",
   "name": "python3"
  },
  "language_info": {
   "codemirror_mode": {
    "name": "ipython",
    "version": 3
   },
   "file_extension": ".py",
   "mimetype": "text/x-python",
   "name": "python",
   "nbconvert_exporter": "python",
   "pygments_lexer": "ipython3",
   "version": "3.10.12"
  }
 },
 "nbformat": 4,
 "nbformat_minor": 2
}
