{
 "cells": [
  {
   "cell_type": "code",
   "execution_count": null,
   "metadata": {},
   "outputs": [],
   "source": [
    "inventory_item = {\n",
    "    \"productName\": \"运动鞋\",\n",
    "    \"quantity\": None,\n",
    "    \"inStock\": True,\n",
    "    \"supplier\": None,\n",
    "    \"price\": 269.99\n",
    "}\n",
    "\n",
    "print(inventory_item)"
   ]
  },
  {
   "cell_type": "code",
   "execution_count": null,
   "metadata": {},
   "outputs": [],
   "source": [
    "def drop_empty_fields(item_dict):\n",
    "    return None\n",
    "\n",
    "\n",
    "cleaned_item = \n",
    "print(\"原始字典：\", inventory_item)\n",
    "print(\"清理后的字典：\", cleaned_item)"
   ]
  }
 ],
 "metadata": {
  "language_info": {
   "name": "python"
  }
 },
 "nbformat": 4,
 "nbformat_minor": 2
}
