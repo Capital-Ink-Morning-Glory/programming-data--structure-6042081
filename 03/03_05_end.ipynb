{
 "cells": [
  {
   "cell_type": "code",
   "execution_count": null,
   "metadata": {},
   "outputs": [],
   "source": [
    "inventory_item = {\n",
    "    \"productName\": \"运动鞋\",\n",
    "    \"quantity\": None,\n",
    "    \"inStock\": True,\n",
    "    \"supplier\": None,\n",
    "    \"price\": 269.99\n",
    "}\n",
    "\n",
    "print(inventory_item)"
   ]
  },
  {
   "cell_type": "code",
   "execution_count": null,
   "metadata": {},
   "outputs": [],
   "source": [
    "def drop_empty_fields(item_dict):\n",
    "    clean_dict = {}\n",
    "    for key, value in item_dict.items():\n",
    "        if value is not None:\n",
    "            clean_dict[key] = value\n",
    "    return clean_dict\n",
    "\n",
    "\n",
    "cleaned_item = drop_empty_fields(inventory_item)\n",
    "print(\"原始字典：\", inventory_item)\n",
    "print(\"清理后的字典：\", cleaned_item)"
   ]
  },
  {
   "cell_type": "code",
   "execution_count": null,
   "metadata": {},
   "outputs": [],
   "source": [
    "def drop_empty_fields(item_dict):\n",
    "    return {key: value for key, value in item_dict.items() if value is not None}\n",
    "\n",
    "cleaned_item = drop_empty_fields(inventory_item)\n",
    "print(\"原始字典：\", inventory_item)\n",
    "print(\"清理后的字典：\", cleaned_item)"
   ]
  }
 ],
 "metadata": {
  "language_info": {
   "name": "python"
  }
 },
 "nbformat": 4,
 "nbformat_minor": 2
}
