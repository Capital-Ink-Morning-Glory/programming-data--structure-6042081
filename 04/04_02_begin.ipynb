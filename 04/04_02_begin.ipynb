{
 "cells": [
  {
   "cell_type": "code",
   "execution_count": 1,
   "metadata": {},
   "outputs": [
    {
     "name": "stdout",
     "output_type": "stream",
     "text": [
      "西瓜不在集合中\n"
     ]
    }
   ],
   "source": [
    "# 创建水果集合\n",
    "common_fruits = set([\"苹果\", \"香蕉\", \"葡萄\"])\n",
    "\n",
    "fruit = \"西瓜\"\n",
    "\n",
    "# 检查元素是否在集合中\n",
    "if fruit in common_fruits: \n",
    "    print(fruit + \"在集合中\")\n",
    "else:\n",
    "    print(fruit + \"不在集合中\")"
   ]
  },
  {
   "cell_type": "code",
   "execution_count": 5,
   "metadata": {},
   "outputs": [
    {
     "name": "stdout",
     "output_type": "stream",
     "text": [
      "{'西瓜', '香蕉', '苹果', '葡萄'}\n"
     ]
    }
   ],
   "source": [
    "# 添加元素到集合\n",
    "common_fruits.add(fruit)\n",
    "print(common_fruits)\n",
    "# 集合可自动去重"
   ]
  }
 ],
 "metadata": {
  "kernelspec": {
   "display_name": "Python 3",
   "language": "python",
   "name": "python3"
  },
  "language_info": {
   "codemirror_mode": {
    "name": "ipython",
    "version": 3
   },
   "file_extension": ".py",
   "mimetype": "text/x-python",
   "name": "python",
   "nbconvert_exporter": "python",
   "pygments_lexer": "ipython3",
   "version": "3.10.12"
  }
 },
 "nbformat": 4,
 "nbformat_minor": 2
}
