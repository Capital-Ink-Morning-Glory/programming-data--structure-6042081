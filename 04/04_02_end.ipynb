{
 "cells": [
  {
   "cell_type": "code",
   "execution_count": null,
   "metadata": {},
   "outputs": [],
   "source": [
    "# 创建水果集合\n",
    "common_fruits = set([\"苹果\", \"香蕉\", \"葡萄\"])\n",
    "\n",
    "fruit = \"西瓜\"\n",
    "\n",
    "# 检查元素是否在集合中\n",
    "if fruit in common_fruits:\n",
    "    print(fruit + \" 在集合中\")\n",
    "else:\n",
    "    print(fruit + \" 不在集合中\")"
   ]
  },
  {
   "cell_type": "code",
   "execution_count": null,
   "metadata": {},
   "outputs": [],
   "source": [
    "# 添加元素到集合\n",
    "common_fruits.add(\"西瓜\")\n",
    "common_fruits.add(\"西瓜\")\n",
    "print(common_fruits)"
   ]
  }
 ],
 "metadata": {
  "language_info": {
   "name": "python"
  }
 },
 "nbformat": 4,
 "nbformat_minor": 2
}
