{
 "cells": [
  {
   "cell_type": "code",
   "execution_count": null,
   "metadata": {},
   "outputs": [],
   "source": [
    "set_A = {\"Python\", \"Java\", \"C++\", \"SQL\"}\n",
    "set_B = {\"C++\", \"Go\", \"Java\", \"Rust\"}"
   ]
  },
  {
   "cell_type": "code",
   "execution_count": null,
   "metadata": {},
   "outputs": [],
   "source": [
    "# 并集：将两个集合中的元素合并\n",
    "union_set = \n",
    "print(\"并集：\", union_set)"
   ]
  },
  {
   "cell_type": "code",
   "execution_count": null,
   "metadata": {},
   "outputs": [],
   "source": [
    "# 交集：找出两个集合都包含的元素\n",
    "intersection_set = \n",
    "print(\"交集：\", intersection_set)"
   ]
  },
  {
   "cell_type": "code",
   "execution_count": null,
   "metadata": {},
   "outputs": [],
   "source": [
    "# 差集：把B包含的元素从A里“去掉”\n",
    "difference_set_AB = \n",
    "print(\"A - B 的差集：\", difference_set_AB)\n",
    "\n",
    "# 反过来，把A包含的元素从B里“去掉”\n",
    "difference_set_BA = \n",
    "print(\"B - A 的差集：\", difference_set_BA)"
   ]
  },
  {
   "cell_type": "code",
   "execution_count": null,
   "metadata": {},
   "outputs": [],
   "source": [
    "# 对称差：找出两个集合之间彼此不重叠的元素\n",
    "symmetric_difference_set = \n",
    "print(\"对称差：\", symmetric_difference_set)"
   ]
  }
 ],
 "metadata": {
  "language_info": {
   "name": "python"
  }
 },
 "nbformat": 4,
 "nbformat_minor": 2
}
