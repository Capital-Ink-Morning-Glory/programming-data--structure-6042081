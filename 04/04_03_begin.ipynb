{
 "cells": [
  {
   "cell_type": "code",
   "execution_count": 1,
   "metadata": {},
   "outputs": [],
   "source": [
    "set_A = {\"Python\", \"Java\", \"C++\", \"SQL\"}\n",
    "set_B = {\"C++\", \"Go\", \"Java\", \"Rust\"}"
   ]
  },
  {
   "cell_type": "code",
   "execution_count": 2,
   "metadata": {},
   "outputs": [
    {
     "name": "stdout",
     "output_type": "stream",
     "text": [
      "并集： {'Java', 'Python', 'Go', 'Rust', 'C++', 'SQL'}\n"
     ]
    }
   ],
   "source": [
    "# 并集：将两个集合中的元素合并\n",
    "union_set = set_A.union(set_B)\n",
    "print(\"并集：\", union_set)"
   ]
  },
  {
   "cell_type": "code",
   "execution_count": 3,
   "metadata": {},
   "outputs": [
    {
     "name": "stdout",
     "output_type": "stream",
     "text": [
      "交集： {'Java', 'C++'}\n"
     ]
    }
   ],
   "source": [
    "# 交集：找出两个集合都包含的元素\n",
    "intersection_set = set_A.intersection(set_B)\n",
    "print(\"交集：\", intersection_set)"
   ]
  },
  {
   "cell_type": "code",
   "execution_count": 4,
   "metadata": {},
   "outputs": [
    {
     "name": "stdout",
     "output_type": "stream",
     "text": [
      "A - B 的差集： {'Python', 'SQL'}\n",
      "B - A 的差集： {'Go', 'Rust'}\n"
     ]
    }
   ],
   "source": [
    "# 差集：把B包含的元素从A里“去掉”\n",
    "difference_set_AB = set_A.difference(set_B)\n",
    "print(\"A - B 的差集：\", difference_set_AB)\n",
    "\n",
    "# 反过来，把A包含的元素从B里“去掉”\n",
    "difference_set_BA = set_B.difference(set_A)\n",
    "print(\"B - A 的差集：\", difference_set_BA)"
   ]
  },
  {
   "cell_type": "code",
   "execution_count": 5,
   "metadata": {},
   "outputs": [
    {
     "name": "stdout",
     "output_type": "stream",
     "text": [
      "对称差： {'Go', 'Rust', 'Python', 'SQL'}\n"
     ]
    }
   ],
   "source": [
    "# 对称差：找出两个集合之间彼此不重叠的元素\n",
    "symmetric_difference_set = set_A.symmetric_difference(set_B)\n",
    "print(\"对称差：\", symmetric_difference_set)"
   ]
  }
 ],
 "metadata": {
  "kernelspec": {
   "display_name": "Python 3",
   "language": "python",
   "name": "python3"
  },
  "language_info": {
   "codemirror_mode": {
    "name": "ipython",
    "version": 3
   },
   "file_extension": ".py",
   "mimetype": "text/x-python",
   "name": "python",
   "nbconvert_exporter": "python",
   "pygments_lexer": "ipython3",
   "version": "3.10.12"
  }
 },
 "nbformat": 4,
 "nbformat_minor": 2
}
