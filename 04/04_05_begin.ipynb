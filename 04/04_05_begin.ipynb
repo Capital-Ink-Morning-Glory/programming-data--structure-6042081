{
 "cells": [
  {
   "cell_type": "code",
   "execution_count": null,
   "metadata": {},
   "outputs": [],
   "source": [
    "def has_unique_characters(data):\n",
    "    return False  # 需要你来实现！\n",
    "\n",
    "\n",
    "print(has_unique_characters('小明'))       \n",
    "print(has_unique_characters('你好你好'))   \n",
    "print(has_unique_characters('数据结构'))   \n",
    "print(has_unique_characters('Data'))"
   ]
  }
 ],
 "metadata": {
  "language_info": {
   "name": "python"
  }
 },
 "nbformat": 4,
 "nbformat_minor": 2
}
