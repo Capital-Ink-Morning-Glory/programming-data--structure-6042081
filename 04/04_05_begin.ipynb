{
 "cells": [
  {
   "cell_type": "code",
   "execution_count": 1,
   "metadata": {},
   "outputs": [
    {
     "name": "stdout",
     "output_type": "stream",
     "text": [
      "True\n",
      "False\n",
      "True\n",
      "False\n"
     ]
    }
   ],
   "source": [
    "def has_unique_characters(data):\n",
    "    data_set = set([])\n",
    "    for character in data:\n",
    "        data_set.add(character)\n",
    "    \n",
    "    if len(data_set) == len(data):\n",
    "        return True\n",
    "    elif len(data_set) < len(data):\n",
    "        return False  \n",
    "\n",
    "\n",
    "print(has_unique_characters('小明'))       \n",
    "print(has_unique_characters('你好你好'))   \n",
    "print(has_unique_characters('数据结构'))   \n",
    "print(has_unique_characters('Data'))"
   ]
  },
  {
   "cell_type": "code",
   "execution_count": 2,
   "metadata": {},
   "outputs": [
    {
     "name": "stdout",
     "output_type": "stream",
     "text": [
      "True\n",
      "False\n",
      "True\n",
      "False\n"
     ]
    }
   ],
   "source": [
    "def has_unique_characters(data):\n",
    "    data_set = set(data)\n",
    "    \n",
    "    if len(data_set) == len(data):\n",
    "        return True\n",
    "    elif len(data_set) < len(data):\n",
    "        return False  \n",
    "\n",
    "\n",
    "print(has_unique_characters('小明'))       \n",
    "print(has_unique_characters('你好你好'))   \n",
    "print(has_unique_characters('数据结构'))   \n",
    "print(has_unique_characters('Data'))"
   ]
  }
 ],
 "metadata": {
  "kernelspec": {
   "display_name": "Python 3",
   "language": "python",
   "name": "python3"
  },
  "language_info": {
   "codemirror_mode": {
    "name": "ipython",
    "version": 3
   },
   "file_extension": ".py",
   "mimetype": "text/x-python",
   "name": "python",
   "nbconvert_exporter": "python",
   "pygments_lexer": "ipython3",
   "version": "3.10.12"
  }
 },
 "nbformat": 4,
 "nbformat_minor": 2
}
