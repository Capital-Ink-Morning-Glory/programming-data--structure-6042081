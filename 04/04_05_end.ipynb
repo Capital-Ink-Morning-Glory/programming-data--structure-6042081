{
 "cells": [
  {
   "cell_type": "code",
   "execution_count": null,
   "metadata": {},
   "outputs": [
    {
     "name": "stdout",
     "output_type": "stream",
     "text": [
      "True\n",
      "False\n",
      "True\n",
      "False\n"
     ]
    }
   ],
   "source": [
    "def has_unique_characters(data):\n",
    "    unique_data = set(data)\n",
    "    return len(data) == len(unique_data)\n",
    "\n",
    "print(has_unique_characters('小明'))       # True\n",
    "print(has_unique_characters('你好你好'))   # False\n",
    "print(has_unique_characters('数据结构'))   # True\n",
    "print(has_unique_characters('Data'))       # False"
   ]
  }
 ],
 "metadata": {
  "kernelspec": {
   "display_name": "Python 3",
   "language": "python",
   "name": "python3"
  },
  "language_info": {
   "codemirror_mode": {
    "name": "ipython",
    "version": 3
   },
   "file_extension": ".py",
   "mimetype": "text/x-python",
   "name": "python",
   "nbconvert_exporter": "python",
   "pygments_lexer": "ipython3",
   "version": "3.11.4"
  }
 },
 "nbformat": 4,
 "nbformat_minor": 2
}
