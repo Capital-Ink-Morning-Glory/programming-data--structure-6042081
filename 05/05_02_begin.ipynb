{
 "cells": [
  {
   "cell_type": "code",
   "execution_count": null,
   "metadata": {},
   "outputs": [
    {
     "name": "stdout",
     "output_type": "stream",
     "text": [
      "卡布奇诺\n",
      "拿铁\n",
      "美式咖啡\n"
     ]
    }
   ],
   "source": [
    "from collections import deque\n",
    "coffee_queue = deque()\n",
    "\n",
    "coffee_queue.append(\"卡布奇诺\")\n",
    "coffee_queue.append(\"拿铁\")\n",
    "coffee_queue.append(\"美式咖啡\")\n",
    "\n",
    "while len(coffee_queue) > 0:\n",
    "  order = coffee_queue.popleft()\n",
    "  print(order)"
   ]
  }
 ],
 "metadata": {
  "kernelspec": {
   "display_name": "Python 3",
   "language": "python",
   "name": "python3"
  },
  "language_info": {
   "codemirror_mode": {
    "name": "ipython",
    "version": 3
   },
   "file_extension": ".py",
   "mimetype": "text/x-python",
   "name": "python",
   "nbconvert_exporter": "python",
   "pygments_lexer": "ipython3",
   "version": "3.10.12"
  }
 },
 "nbformat": 4,
 "nbformat_minor": 2
}
