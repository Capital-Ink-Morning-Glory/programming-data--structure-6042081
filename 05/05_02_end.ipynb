{
 "cells": [
  {
   "cell_type": "code",
   "execution_count": 1,
   "metadata": {},
   "outputs": [
    {
     "name": "stdout",
     "output_type": "stream",
     "text": [
      "正在制作：卡布奇诺\n",
      "正在制作：拿铁\n",
      "正在制作：美式咖啡\n"
     ]
    }
   ],
   "source": [
    "from collections import deque\n",
    "\n",
    "coffee_queue = deque()\n",
    "coffee_queue.append(\"卡布奇诺\")\n",
    "coffee_queue.append(\"拿铁\")\n",
    "coffee_queue.append(\"美式咖啡\")\n",
    "\n",
    "while len(coffee_queue) > 0:\n",
    "    order = coffee_queue.popleft()\n",
    "    print(f\"正在制作：{order}\")"
   ]
  }
 ],
 "metadata": {
  "kernelspec": {
   "display_name": "Python 3",
   "language": "python",
   "name": "python3"
  },
  "language_info": {
   "codemirror_mode": {
    "name": "ipython",
    "version": 3
   },
   "file_extension": ".py",
   "mimetype": "text/x-python",
   "name": "python",
   "nbconvert_exporter": "python",
   "pygments_lexer": "ipython3",
   "version": "3.11.4"
  }
 },
 "nbformat": 4,
 "nbformat_minor": 2
}
