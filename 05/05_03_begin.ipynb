{
 "cells": [
  {
   "cell_type": "code",
   "execution_count": 1,
   "metadata": {},
   "outputs": [
    {
     "name": "stdout",
     "output_type": "stream",
     "text": [
      "A, B, AA, AB, BA, BB, \n",
      "\n",
      "\n",
      "A, B, \n",
      "A, B, AA, AB, BA, BB, AAA, AAB, ABA, ABB, \n"
     ]
    }
   ],
   "source": [
    "from collections import deque\n",
    "\n",
    "def print_serial_numbers(n):\n",
    "    if n <= 0:\n",
    "        return None\n",
    "    \n",
    "    queue = deque()\n",
    "    queue.append('A')\n",
    "    queue.append('B')\n",
    "    for _ in range(n):\n",
    "        ticket = queue.popleft()\n",
    "        print(ticket, end=\", \")\n",
    "        queue.append(ticket + 'A')\n",
    "        queue.append(ticket + 'B')\n",
    "    return queue\n",
    "\n",
    "# 测试示例\n",
    "print_serial_numbers(6) # ['A', 'B', 'AA', 'AB', 'BA', 'BB']\n",
    "print()\n",
    "print_serial_numbers(-9) # 空\n",
    "print()\n",
    "print_serial_numbers(0) # 空\n",
    "print()\n",
    "print_serial_numbers(2) # ['A', 'B']\n",
    "print()\n",
    "print_serial_numbers(10) # ['A', 'B', 'AA', 'AB', 'BA', 'BB', 'AAA', 'AAB', 'ABA', 'ABB']\n",
    "print()"
   ]
  }
 ],
 "metadata": {
  "kernelspec": {
   "display_name": "Python 3",
   "language": "python",
   "name": "python3"
  },
  "language_info": {
   "codemirror_mode": {
    "name": "ipython",
    "version": 3
   },
   "file_extension": ".py",
   "mimetype": "text/x-python",
   "name": "python",
   "nbconvert_exporter": "python",
   "pygments_lexer": "ipython3",
   "version": "3.10.12"
  }
 },
 "nbformat": 4,
 "nbformat_minor": 2
}
