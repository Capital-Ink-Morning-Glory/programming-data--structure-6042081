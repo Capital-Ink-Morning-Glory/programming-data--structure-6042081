{
 "cells": [
  {
   "cell_type": "code",
   "execution_count": 3,
   "metadata": {},
   "outputs": [
    {
     "name": "stdout",
     "output_type": "stream",
     "text": [
      "A, B, AA, AB, BA, BB, \n",
      "\n",
      "\n",
      "A, B, \n",
      "A, B, AA, AB, BA, BB, AAA, AAB, ABA, ABB, \n"
     ]
    }
   ],
   "source": [
    "from collections import deque\n",
    "\n",
    "def print_serial_numbers(n):\n",
    "    # 如果 n <= 0，则不输出任何结果\n",
    "    if n <= 0:\n",
    "        return\n",
    "    \n",
    "    queue = deque()\n",
    "    # 初始向队列中加入最简单的两个编号\n",
    "    queue.append(\"A\")\n",
    "    queue.append(\"B\")\n",
    "    \n",
    "    # 循环 n 次，每次从队首取出一个编号\n",
    "    for _ in range(n):\n",
    "        ticket = queue.popleft()\n",
    "        print(ticket, end=\", \")\n",
    "        # 将该编号分别加上 \"A\" 和 \"B\" 后重新放回队列\n",
    "        queue.append(ticket + \"A\")\n",
    "        queue.append(ticket + \"B\")\n",
    "\n",
    "\n",
    "# 测试示例\n",
    "print_serial_numbers(6) # ['A', 'B', 'AA', 'AB', 'BA', 'BB']\n",
    "print()\n",
    "print_serial_numbers(-9) # 空\n",
    "print()\n",
    "print_serial_numbers(0) # 空\n",
    "print()\n",
    "print_serial_numbers(2) # ['A', 'B']\n",
    "print()\n",
    "print_serial_numbers(10) # ['A', 'B', 'AA', 'AB', 'BA', 'BB', 'AAA', 'AAB', 'ABA', 'ABB']\n",
    "print()\n"
   ]
  }
 ],
 "metadata": {
  "kernelspec": {
   "display_name": "Python 3",
   "language": "python",
   "name": "python3"
  },
  "language_info": {
   "codemirror_mode": {
    "name": "ipython",
    "version": 3
   },
   "file_extension": ".py",
   "mimetype": "text/x-python",
   "name": "python",
   "nbconvert_exporter": "python",
   "pygments_lexer": "ipython3",
   "version": "3.11.4"
  }
 },
 "nbformat": 4,
 "nbformat_minor": 2
}
