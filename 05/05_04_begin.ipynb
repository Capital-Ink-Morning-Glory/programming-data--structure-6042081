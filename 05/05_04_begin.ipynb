{
 "cells": [
  {
   "cell_type": "code",
   "execution_count": null,
   "metadata": {},
   "outputs": [],
   "source": [
    "from collections import deque\n",
    "\n",
    "def print_serial_numbers(n):\n",
    "    return\n",
    "\n",
    "# 测试示例\n",
    "print_serial_numbers(6) # ['A', 'B', 'AA', 'AB', 'BA', 'BB']\n",
    "print()\n",
    "print_serial_numbers(-9) # 空\n",
    "print()\n",
    "print_serial_numbers(0) # 空\n",
    "print()\n",
    "print_serial_numbers(2) # ['A', 'B']\n",
    "print()\n",
    "print_serial_numbers(10) # ['A', 'B', 'AA', 'AB', 'BA', 'BB', 'AAA', 'AAB', 'ABA', 'ABB']\n",
    "print()"
   ]
  }
 ],
 "metadata": {
  "language_info": {
   "name": "python"
  }
 },
 "nbformat": 4,
 "nbformat_minor": 2
}
