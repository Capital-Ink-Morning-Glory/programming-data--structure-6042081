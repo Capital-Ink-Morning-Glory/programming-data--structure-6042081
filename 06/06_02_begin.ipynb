{
 "cells": [
  {
   "cell_type": "code",
   "execution_count": 1,
   "metadata": {},
   "outputs": [
    {
     "name": "stdout",
     "output_type": "stream",
     "text": [
      "['遛狗', '备份文件', '写周报']\n"
     ]
    }
   ],
   "source": [
    "task_stack = []\n",
    "\n",
    "# 向栈里添加（压入）三个待办事项\n",
    "task_stack.append(\"遛狗\")\n",
    "task_stack.append(\"备份文件\")\n",
    "task_stack.append(\"写周报\")\n",
    "\n",
    "print(task_stack)"
   ]
  },
  {
   "cell_type": "code",
   "execution_count": 2,
   "metadata": {},
   "outputs": [
    {
     "name": "stdout",
     "output_type": "stream",
     "text": [
      "写周报\n"
     ]
    }
   ],
   "source": [
    "# 弹出（pop）最上面的待办事项\n",
    "top_task = task_stack.pop()\n",
    "print(top_task)"
   ]
  },
  {
   "cell_type": "code",
   "execution_count": 3,
   "metadata": {},
   "outputs": [
    {
     "name": "stdout",
     "output_type": "stream",
     "text": [
      "备份文件\n",
      "2\n"
     ]
    }
   ],
   "source": [
    "# 查看新的栈顶任务，但并不弹出\n",
    "top_task = task_stack[-1]\n",
    "print(top_task)\n",
    "\n",
    "# 判断栈是否为空\n",
    "if not task_stack:\n",
    "    print(\"任务栈为空\")\n",
    "else:\n",
    "    print(len(task_stack))"
   ]
  },
  {
   "cell_type": "code",
   "execution_count": null,
   "metadata": {},
   "outputs": [],
   "source": []
  }
 ],
 "metadata": {
  "kernelspec": {
   "display_name": "Python 3",
   "language": "python",
   "name": "python3"
  },
  "language_info": {
   "codemirror_mode": {
    "name": "ipython",
    "version": 3
   },
   "file_extension": ".py",
   "mimetype": "text/x-python",
   "name": "python",
   "nbconvert_exporter": "python",
   "pygments_lexer": "ipython3",
   "version": "3.10.12"
  }
 },
 "nbformat": 4,
 "nbformat_minor": 2
}
