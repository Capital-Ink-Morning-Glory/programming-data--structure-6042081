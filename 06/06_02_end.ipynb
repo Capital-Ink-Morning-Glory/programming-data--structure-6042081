{
 "cells": [
  {
   "cell_type": "code",
   "execution_count": null,
   "metadata": {},
   "outputs": [],
   "source": [
    "task_stack = []\n",
    "\n",
    "# 向栈里添加（压入）三个待办事项\n",
    "task_stack.append(\"遛狗\")\n",
    "task_stack.append(\"备份文件\")\n",
    "task_stack.append(\"写周报\")"
   ]
  },
  {
   "cell_type": "code",
   "execution_count": null,
   "metadata": {},
   "outputs": [],
   "source": [
    "# 弹出（pop）最上面的待办事项\n",
    "top_task = task_stack.pop()\n",
    "print(top_task)"
   ]
  },
  {
   "cell_type": "code",
   "execution_count": null,
   "metadata": {},
   "outputs": [],
   "source": [
    "# 查看新的栈顶任务，但并不弹出\n",
    "top_task = task_stack[-1]\n",
    "print(top_task)"
   ]
  },
  {
   "cell_type": "code",
   "execution_count": null,
   "metadata": {},
   "outputs": [],
   "source": [
    "# 判断栈是否为空\n",
    "if not task_stack:\n",
    "    print(\"任务栈为空\")\n",
    "else:\n",
    "    print(len(task_stack))"
   ]
  }
 ],
 "metadata": {
  "language_info": {
   "name": "python"
  }
 },
 "nbformat": 4,
 "nbformat_minor": 2
}
