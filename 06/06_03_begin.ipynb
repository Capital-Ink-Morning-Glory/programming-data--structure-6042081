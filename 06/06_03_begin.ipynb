{
 "cells": [
  {
   "cell_type": "code",
   "execution_count": null,
   "metadata": {},
   "outputs": [],
   "source": [
    "from collections import deque\n",
    "\n",
    "# 创建一个空栈\n",
    "\n",
    "\n",
    "# 使用 append 方法，将新学完的课程依次“压入”到栈里\n",
    "\n",
    "\n",
    "# 使用 pop 方法可以移除栈顶的课程\n",
    "\n",
    "\n",
    "# 通过索引 -1 可以查看栈顶的课程，而不会真正把它弹出去\n"
   ]
  }
 ],
 "metadata": {
  "language_info": {
   "name": "python"
  }
 },
 "nbformat": 4,
 "nbformat_minor": 2
}
