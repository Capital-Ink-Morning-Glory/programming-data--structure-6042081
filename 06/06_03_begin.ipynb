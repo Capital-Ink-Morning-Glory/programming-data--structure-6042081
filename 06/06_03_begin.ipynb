{
 "cells": [
  {
   "cell_type": "code",
   "execution_count": 3,
   "metadata": {},
   "outputs": [
    {
     "name": "stdout",
     "output_type": "stream",
     "text": [
      "deque(['Python高级知识', '用Python处理Excel表格', 'Excel中的Python'])\n",
      "Excel中的Python\n",
      "用Python处理Excel表格\n"
     ]
    }
   ],
   "source": [
    "from collections import deque\n",
    "\n",
    "# 创建一个空栈\n",
    "course_stack = deque()\n",
    "\n",
    "# 使用 append 方法，将新学完的课程依次“压入”到栈里\n",
    "course_stack.append(\"Python高级知识\")\n",
    "course_stack.append(\"用Python处理Excel表格\")\n",
    "course_stack.append(\"Excel中的Python\")\n",
    "print(course_stack)\n",
    "\n",
    "# 使用 pop 方法可以移除栈顶的课程\n",
    "print(course_stack.pop())\n",
    "\n",
    "# 通过索引 -1 可以查看栈顶的课程，而不会真正把它弹出去\n",
    "print(course_stack[-1])"
   ]
  },
  {
   "cell_type": "code",
   "execution_count": null,
   "metadata": {},
   "outputs": [],
   "source": []
  }
 ],
 "metadata": {
  "kernelspec": {
   "display_name": "Python 3",
   "language": "python",
   "name": "python3"
  },
  "language_info": {
   "codemirror_mode": {
    "name": "ipython",
    "version": 3
   },
   "file_extension": ".py",
   "mimetype": "text/x-python",
   "name": "python",
   "nbconvert_exporter": "python",
   "pygments_lexer": "ipython3",
   "version": "3.10.12"
  }
 },
 "nbformat": 4,
 "nbformat_minor": 2
}
