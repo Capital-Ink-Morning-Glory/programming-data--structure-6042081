{
 "cells": [
  {
   "cell_type": "code",
   "execution_count": null,
   "metadata": {},
   "outputs": [],
   "source": [
    "from collections import deque\n",
    "\n",
    "# 请实现这个函数\n",
    "def reverse_words(sentence):\n",
    "    return None \n",
    "\n",
    "# 测试用例\n",
    "print(reverse_words(\"Hello World\"))            # World Hello\n",
    "print(reverse_words(\"Python is fun\"))          # fun is Python\n",
    "print(reverse_words(\"Stack and Queue\"))        # Queue and Stack\n",
    "print(reverse_words(\"I love learning\"))        # learning love I"
   ]
  }
 ],
 "metadata": {
  "language_info": {
   "name": "python"
  }
 },
 "nbformat": 4,
 "nbformat_minor": 2
}
