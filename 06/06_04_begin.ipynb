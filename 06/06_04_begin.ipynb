{
 "cells": [
  {
   "cell_type": "code",
   "execution_count": 11,
   "metadata": {},
   "outputs": [
    {
     "name": "stdout",
     "output_type": "stream",
     "text": [
      "World Hello\n",
      "fun is Python\n",
      "Queue and Stack\n",
      "learning love I\n"
     ]
    }
   ],
   "source": [
    "from collections import deque\n",
    "\n",
    "# 请实现这个函数\n",
    "def reverse_words(sentence):\n",
    "    reverse_words = \"\"\n",
    "    reverse_words_stack = deque()\n",
    "    word_list = sentence.split()\n",
    "\n",
    "    for word in word_list:\n",
    "        reverse_words_stack.append(word)\n",
    "    \n",
    "    while len(reverse_words_stack) > 0:\n",
    "        reverse_words += \" \" + reverse_words_stack.pop()\n",
    "\n",
    "    return reverse_words[1:]\n",
    "\n",
    "# 测试用例\n",
    "print(reverse_words(\"Hello World\"))            # World Hello\n",
    "print(reverse_words(\"Python is fun\"))          # fun is Python\n",
    "print(reverse_words(\"Stack and Queue\"))        # Queue and Stack\n",
    "print(reverse_words(\"I love learning\"))        # learning love I"
   ]
  },
  {
   "cell_type": "code",
   "execution_count": null,
   "metadata": {},
   "outputs": [],
   "source": []
  }
 ],
 "metadata": {
  "kernelspec": {
   "display_name": "Python 3",
   "language": "python",
   "name": "python3"
  },
  "language_info": {
   "codemirror_mode": {
    "name": "ipython",
    "version": 3
   },
   "file_extension": ".py",
   "mimetype": "text/x-python",
   "name": "python",
   "nbconvert_exporter": "python",
   "pygments_lexer": "ipython3",
   "version": "3.10.12"
  }
 },
 "nbformat": 4,
 "nbformat_minor": 2
}
