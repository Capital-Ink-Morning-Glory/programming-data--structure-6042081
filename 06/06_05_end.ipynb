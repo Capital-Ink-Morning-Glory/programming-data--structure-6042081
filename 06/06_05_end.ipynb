{
 "cells": [
  {
   "cell_type": "code",
   "execution_count": 1,
   "metadata": {},
   "outputs": [
    {
     "name": "stdout",
     "output_type": "stream",
     "text": [
      "World Hello\n",
      "fun is Python\n",
      "Queue and Stack\n",
      "learning love I\n"
     ]
    }
   ],
   "source": [
    "from collections import deque\n",
    "\n",
    "def reverse_words(sentence):\n",
    "    # 首先，创建一个空的 deque 栈，用于存放单词\n",
    "    stack = deque()\n",
    "    \n",
    "    # 接着，使用 split() 方法按照空格将输入句子分割成多个单词\n",
    "    words = sentence.split()\n",
    "    \n",
    "    # 然后，使用 for 循环，将每个单词压入 stack 中\n",
    "    for word in words:\n",
    "        stack.append(word)\n",
    "    \n",
    "    # 接下来，为了得到翻转后的句子，创建一个空列表 reversed_sentence\n",
    "    reversed_sentence = []\n",
    "    \n",
    "    # 只要栈里还有元素，就不断弹出栈顶元素，压入到 reversed_sentence 列表的末尾\n",
    "    while stack:\n",
    "        reversed_sentence.append(stack.pop())\n",
    "    \n",
    "    # 最后，使用 \" \".join() 将列表中的单词重新拼接成一个字符串，并返回结果\n",
    "    return \" \".join(reversed_sentence)\n",
    "\n",
    "# 下面是测试用例，我们可以通过调用 reverse_words 函数，并打印出结果来验证\n",
    "print(reverse_words(\"Hello World\"))            # 预期结果: World Hello\n",
    "print(reverse_words(\"Python is fun\"))          # 预期结果: fun is Python\n",
    "print(reverse_words(\"Stack and Queue\"))        # 预期结果: Queue and Stack\n",
    "print(reverse_words(\"I love learning\"))        # 预期结果: learning love I"
   ]
  }
 ],
 "metadata": {
  "kernelspec": {
   "display_name": "Python 3",
   "language": "python",
   "name": "python3"
  },
  "language_info": {
   "codemirror_mode": {
    "name": "ipython",
    "version": 3
   },
   "file_extension": ".py",
   "mimetype": "text/x-python",
   "name": "python",
   "nbconvert_exporter": "python",
   "pygments_lexer": "ipython3",
   "version": "3.11.4"
  }
 },
 "nbformat": 4,
 "nbformat_minor": 2
}
